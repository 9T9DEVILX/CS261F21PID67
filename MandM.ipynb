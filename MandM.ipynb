{
 "cells": [
  {
   "cell_type": "code",
   "execution_count": 58,
   "id": "5e03d503",
   "metadata": {},
   "outputs": [
    {
     "name": "stdout",
     "output_type": "stream",
     "text": [
      "['Not Available', 'Not Available', 'Not Available', 'Not Available', 'Not Available', 'Not Available', 'Not Available', 'Not Available', 'Not Available', 'Not Available', 'Not Available', 'Not Available', 'Not Available', 'Not Available', 'Not Available', 'Not Available', 'Not Available', 'Not Available', 'Not Available', 'Not Available', 'Not Available', 'Not Available', 'Not Available', 'Not Available', 'Not Available', 'Not Available', 'Not Available', 'Not Available', 'Not Available', 'Not Available', 'Not Available', 'Not Available', 'Not Available', 'Not Available', 'Not Available', 'Not Available', 'Not Available', 'Not Available', 'Not Available', 'Not Available', 'Not Available', 'Not Available', 'Not Available', 'Not Available', 'Not Available', 'Not Available', 'Not Available', 'Not Available', 'Not Available', 'Not Available']\n"
     ]
    }
   ],
   "source": [
    "import requests\n",
    "from bs4 import BeautifulSoup\n",
    "MovieTitle=[]\n",
    "Rating=[]\n",
    "Type=[]\n",
    "Duration=[]\n",
    "Year=[]\n",
    "Cast=[]\n",
    "Director=[]\n",
    "#stroring url .......\n",
    "\n",
    "url=requests.get('https://www.imdb.com/search/title/?num_votes=1,&sort=user_rating,desc&title_type=films').text\n",
    "#print(url)\n",
    "\n",
    "soup= BeautifulSoup(url, 'lxml')\n",
    "movies= soup.find_all('div', class_=\"lister-item mode-advanced\")\n",
    "#print(movies)\n",
    "for movie in movies:\n",
    "    \n",
    "    #-----------------Title------------------------------\n",
    "    title= movie.find('a')\n",
    "    ok= title.find('img')\n",
    "    titles= ok['alt']\n",
    "    MovieTitle.append(titles)\n",
    "   # print(titles)\n",
    "    \n",
    "    \n",
    "    #-----------------Rating--------------------------\n",
    "    \n",
    "    r = movie.find('strong')\n",
    "    if not r:\n",
    "        rt='Not Availabe'\n",
    "        Rating.append(rt)\n",
    "    else:\n",
    "        rating = movie.find('strong').text\n",
    "        Rating.append(rating)\n",
    "        \n",
    "        \n",
    "    #---------------Type/Category-------------------------\n",
    "    t = movie.find('span', class_=\"gener\")\n",
    "    if not t:\n",
    "        tp='Not Available'\n",
    "        Type.append(tp)\n",
    "    else:\n",
    "        typs=movie.find('span', class_=\"gener\")\n",
    "        typs=typs.text\n",
    "        Type.append(typs)\n",
    "        \n",
    "        \n",
    "    #----------------Duration---------------------\n",
    "    d = movie.find('span', class_=\"runtime\")\n",
    "    if not d:\n",
    "        du='Not Available'\n",
    "        Duration.append(du)\n",
    "    else:\n",
    "        duration=movie.find('span', class_=\"runtime\").text\n",
    "        Duration.append(du)\n",
    "        \n",
    "    #---------------Year-----------------------\n",
    "    y = movie.find('span', class_=\"lister-item-year text-muted unbold\")\n",
    "    if not y:\n",
    "        yr='None'\n",
    "        Year.append(yr)\n",
    "    else:\n",
    "        year=movie.find('span', class_=\"lister-item-year text-muted unbold\").text\n",
    "        Year.append(year)\n",
    "  \n",
    "        \n",
    "   \n"
   ]
  },
  {
   "cell_type": "code",
   "execution_count": null,
   "id": "4b898723",
   "metadata": {},
   "outputs": [],
   "source": []
  },
  {
   "cell_type": "code",
   "execution_count": null,
   "id": "ec794b1e",
   "metadata": {},
   "outputs": [],
   "source": []
  }
 ],
 "metadata": {
  "kernelspec": {
   "display_name": "Python 3",
   "language": "python",
   "name": "python3"
  },
  "language_info": {
   "codemirror_mode": {
    "name": "ipython",
    "version": 3
   },
   "file_extension": ".py",
   "mimetype": "text/x-python",
   "name": "python",
   "nbconvert_exporter": "python",
   "pygments_lexer": "ipython3",
   "version": "3.8.8"
  }
 },
 "nbformat": 4,
 "nbformat_minor": 5
}
